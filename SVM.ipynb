{
  "cells": [
    {
      "cell_type": "markdown",
      "metadata": {
        "id": "view-in-github",
        "colab_type": "text"
      },
      "source": [
        "<a href=\"https://colab.research.google.com/github/xpecon00/MPA-MLF/blob/main/SVM.ipynb\" target=\"_parent\"><img src=\"https://colab.research.google.com/assets/colab-badge.svg\" alt=\"Open In Colab\"/></a>"
      ]
    },
    {
      "cell_type": "markdown",
      "source": [
        ";# SVM for classification"
      ],
      "metadata": {
        "id": "qpzybxGIwnuz"
      }
    },
    {
      "cell_type": "markdown",
      "source": [
        "Load IRIS dataset, check its contents:\n"
      ],
      "metadata": {
        "id": "eMcpNqv-uk-K"
      }
    },
    {
      "cell_type": "code",
      "execution_count": null,
      "metadata": {
        "colab": {
          "base_uri": "https://localhost:8080/"
        },
        "id": "0Pw3iTT7-brT",
        "outputId": "0f8e75fa-ca9a-4139-8a97-c5bf67bd7317"
      },
      "outputs": [
        {
          "output_type": "stream",
          "name": "stdout",
          "text": [
            "['sepal length (cm)', 'sepal width (cm)', 'petal length (cm)', 'petal width (cm)']\n",
            "[[5.1 3.5 1.4 0.2]\n",
            " [4.9 3.  1.4 0.2]\n",
            " [4.7 3.2 1.3 0.2]\n",
            " [4.6 3.1 1.5 0.2]\n",
            " [5.  3.6 1.4 0.2]]\n",
            "[0 0 0 0 0]\n"
          ]
        }
      ],
      "source": [
        "from sklearn.datasets import load_iris\n",
        "iris=load_iris()\n",
        "iris.feature_names\n",
        "print(iris.feature_names)\n",
        "print(iris.data[0:5,:])\n",
        "print(iris.target[0:5])\n",
        "#print(iris.data)"
      ]
    },
    {
      "cell_type": "markdown",
      "source": [
        "Split data into training and testing parts:"
      ],
      "metadata": {
        "id": "H5VBL_QBussh"
      }
    },
    {
      "cell_type": "code",
      "source": [
        "from sklearn.model_selection import train_test_split\n",
        "X=iris.data\n",
        "y=iris.target\n",
        "X_train, X_test, y_train, y_test = train_test_split(X,y,test_size=0.2)\n",
        "print(X_train.shape)\n",
        "print(X_test.shape)"
      ],
      "metadata": {
        "id": "rDk-PobDtp7b",
        "outputId": "d07bdf01-ae63-4652-a0d4-c398c36dbd73",
        "colab": {
          "base_uri": "https://localhost:8080/"
        }
      },
      "execution_count": null,
      "outputs": [
        {
          "output_type": "stream",
          "name": "stdout",
          "text": [
            "(120, 4)\n",
            "(30, 4)\n"
          ]
        }
      ]
    },
    {
      "cell_type": "markdown",
      "source": [
        "Use a Support Vector Machine for classification:\n"
      ],
      "metadata": {
        "id": "3hjR3_OOuzZO"
      }
    },
    {
      "cell_type": "code",
      "source": [
        "from sklearn.svm import SVC\n",
        "SVMmodel=SVC(kernel='linear')\n",
        "SVMmodel.fit(X_train,y_train)\n",
        "SVMmodel.get_params()\n",
        "SVMmodel.score(X_test,y_test)"
      ],
      "metadata": {
        "id": "XKbwK1yht2In",
        "outputId": "e84f6eb9-c4ab-49db-b63c-8fedcf0e8509",
        "colab": {
          "base_uri": "https://localhost:8080/"
        }
      },
      "execution_count": null,
      "outputs": [
        {
          "output_type": "execute_result",
          "data": {
            "text/plain": [
              "1.0"
            ]
          },
          "metadata": {},
          "execution_count": 7
        }
      ]
    },
    {
      "cell_type": "markdown",
      "source": [
        "Let's explore more now.\n",
        "\n",
        "*   Choose only first two features (columns) of iris.data\n",
        "*   SVM is in its basic form a 2-class classifier, so eliminate iris.target =2 from the data\n",
        "\n"
      ],
      "metadata": {
        "id": "XlCNzZsau7gg"
      }
    },
    {
      "cell_type": "code",
      "execution_count": null,
      "metadata": {
        "id": "nYdW9o1GhwFA"
      },
      "outputs": [],
      "source": []
    },
    {
      "cell_type": "code",
      "source": [
        "from sklearn.model_selection import train_test_split\n",
        "X=iris.data[iris.target!=2, 0:2]\n",
        "y=iris.target[iris.target!=2]\n",
        "X_train, X_test, y_train, y_test = train_test_split(X,y,test_size=0.2)\n",
        "print(X_train.shape)\n",
        "print(X_test.shape)\n"
      ],
      "metadata": {
        "outputId": "dc1bb042-bda2-4adb-a4e4-85b31e975d52",
        "colab": {
          "base_uri": "https://localhost:8080/"
        },
        "id": "gZwQtevtVJrc"
      },
      "execution_count": null,
      "outputs": [
        {
          "output_type": "stream",
          "name": "stdout",
          "text": [
            "(80, 2)\n",
            "(20, 2)\n"
          ]
        }
      ]
    },
    {
      "cell_type": "markdown",
      "source": [
        "Plot scatterplots of targets 0 and 1 and check the separability of the classes:"
      ],
      "metadata": {
        "id": "Vx6fPm3KvlyH"
      }
    },
    {
      "cell_type": "code",
      "source": [
        "import matplotlib.pyplot as plt\n",
        "\n",
        "plt.scatter(X[y==0,0], X[y==0,1], color='blue')\n",
        "plt.scatter(X[y==1,0], X[y==1,1], color='green')"
      ],
      "metadata": {
        "id": "flQWBul_ZYjK",
        "colab": {
          "base_uri": "https://localhost:8080/",
          "height": 450
        },
        "outputId": "2bf3d13a-54d3-489e-c2e3-b8ad073e27d2"
      },
      "execution_count": null,
      "outputs": [
        {
          "output_type": "execute_result",
          "data": {
            "text/plain": [
              "<matplotlib.collections.PathCollection at 0x7e91af77f460>"
            ]
          },
          "metadata": {},
          "execution_count": 38
        },
        {
          "output_type": "display_data",
          "data": {
            "text/plain": [
              "<Figure size 640x480 with 1 Axes>"
            ],
            "image/png": "[encoded data removed]"
          },
          "metadata": {}
        }
      ]
    },
    {
      "cell_type": "markdown",
      "source": [
        "Train and test the SVM classifier, play with regularization parameter C (either use the default value or try e.g. 200)"
      ],
      "metadata": {
        "id": "mu3qUUvHv1TP"
      }
    },
    {
      "cell_type": "code",
      "execution_count": null,
      "metadata": {
        "id": "HOo58lvZo_Lf",
        "colab": {
          "base_uri": "https://localhost:8080/"
        },
        "outputId": "1367bc8e-ac38-407b-f567-2b177cc0faa3"
      },
      "outputs": [
        {
          "output_type": "execute_result",
          "data": {
            "text/plain": [
              "1.0"
            ]
          },
          "metadata": {},
          "execution_count": 40
        }
      ],
      "source": [
        "SVMmodel=SVC(kernel='linear')\n",
        "SVMmodel.fit(X_train,y_train)\n",
        "SVMmodel.get_params()\n",
        "SVMmodel.score(X_test,y_test)"
      ]
    },
    {
      "cell_type": "markdown",
      "source": [],
      "metadata": {
        "id": "vpOHSYlCwdED"
      }
    },
    {
      "cell_type": "markdown",
      "source": [
        "Show support vectors in the 2D plot, plot the decision line from equation [w0 w1]*[x0 x1] + b = 0:"
      ],
      "metadata": {
        "id": "MshE_3pPwceK"
      }
    },
    {
      "cell_type": "code",
      "execution_count": null,
      "metadata": {
        "colab": {
          "base_uri": "https://localhost:8080/",
          "height": 447
        },
        "id": "MkZj_qEMvHeY",
        "outputId": "ea32bd45-4cca-4242-9bbc-1c6d990a5b63"
      },
      "outputs": [
        {
          "output_type": "execute_result",
          "data": {
            "text/plain": [
              "<matplotlib.collections.PathCollection at 0x7e91ac803070>"
            ]
          },
          "metadata": {},
          "execution_count": 76
        },
        {
          "output_type": "display_data",
          "data": {
            "text/plain": [
              "<Figure size 640x480 with 1 Axes>"
            ],
            "image/png": "[encoded data removed]"
          },
          "metadata": {}
        }
      ],
      "source": [
        "supvectors=SVMmodel.support_vectors_\n",
        "import numpy as np\n",
        "# Plot the support vectors here\n",
        "W=SVMmodel.coef_\n",
        "b=SVMmodel.intercept_\n",
        "\n",
        "\n",
        "#Separating line coefficients:\n",
        "plt.scatter(X[y==0,0], X[y==0,1], color='blue')\n",
        "plt.scatter(X[y==1,0], X[y==1,1], color='green')\n",
        "plt.scatter(supvectors[:,0], supvectors[:,1], color='red')\n",
        "xgr = np.linspace(min(X[:,0]),max(X[:,0]), 100)\n",
        "ygr = -W[:,0]/W[:,1]*xgr-b/W[:,1]\n",
        "plt.scatter(xgr,ygr, s = 2)"
      ]
    },
    {
      "cell_type": "markdown",
      "metadata": {
        "id": "TR9Kkzlrx6Pl"
      },
      "source": [
        "# Anomaly detection via SVM"
      ]
    },
    {
      "cell_type": "markdown",
      "source": [
        "Import one-class SVM and generate data (Gaussian blobs in 2D-plane):"
      ],
      "metadata": {
        "id": "D6e44AnXmxZi"
      }
    },
    {
      "cell_type": "code",
      "source": [
        "from sklearn.svm import OneClassSVM\n",
        "from sklearn.datasets import make_blobs\n",
        "from numpy import quantile, where, random\n",
        "\n",
        "random.seed(11)\n",
        "x, _ = make_blobs(n_samples=300, centers=1, cluster_std=.3, center_box=(4, 4))\n",
        "\n",
        "plt.scatter(x[:,0], x[:,1])\n",
        "plt.show()\n",
        "\n"
      ],
      "metadata": {
        "colab": {
          "base_uri": "https://localhost:8080/",
          "height": 430
        },
        "id": "kA9NeGTXm2Ry",
        "outputId": "2c498c26-632f-4643-afc3-6e7f2b1719b9"
      },
      "execution_count": null,
      "outputs": [
        {
          "output_type": "display_data",
          "data": {
            "text/plain": [
              "<Figure size 640x480 with 1 Axes>"
            ],
            "image/png": "[encoded data removed]"
          },
          "metadata": {}
        }
      ]
    },
    {
      "cell_type": "markdown",
      "source": [
        "Train one-class SVM and plot the outliers (outputs of prediction being equal to -1)"
      ],
      "metadata": {
        "id": "HrWy_Y9Sw41V"
      }
    },
    {
      "cell_type": "code",
      "source": [
        "SVMmodelOne = OneClassSVM(kernel='rbf', gamma=0.001, nu=0.03)\n",
        "\n",
        "\n",
        "SVMmodelOne.fit(x)\n",
        "pred = SVMmodelOne.predict(x)\n",
        "anom_index = where(pred==-1)\n",
        "values = x[anom_index]\n",
        "\n",
        "plt.scatter(x[:,0], x[:,1])\n",
        "plt.scatter(values[:,0], values[:,1], color='red')\n",
        "plt.axis('equal')\n",
        "plt.show()\n",
        "\n"
      ],
      "metadata": {
        "id": "esEEn-KqoZic",
        "outputId": "bf4db761-b9d5-4c88-9b47-7a4f45a873a3",
        "colab": {
          "base_uri": "https://localhost:8080/",
          "height": 245
        }
      },
      "execution_count": null,
      "outputs": [
        {
          "output_type": "error",
          "ename": "NameError",
          "evalue": "name 'OneClassSVM' is not defined",
          "traceback": [
            "\u001b[0;31m---------------------------------------------------------------------------\u001b[0m",
            "\u001b[0;31mNameError\u001b[0m                                 Traceback (most recent call last)",
            "\u001b[0;32m<ipython-input-41-33c0c106a304>\u001b[0m in \u001b[0;36m<cell line: 1>\u001b[0;34m()\u001b[0m\n\u001b[0;32m----> 1\u001b[0;31m \u001b[0mSVMmodelOne\u001b[0m \u001b[0;34m=\u001b[0m \u001b[0mOneClassSVM\u001b[0m\u001b[0;34m(\u001b[0m\u001b[0mkernel\u001b[0m\u001b[0;34m=\u001b[0m\u001b[0;34m'rbf'\u001b[0m\u001b[0;34m,\u001b[0m \u001b[0mgamma\u001b[0m\u001b[0;34m=\u001b[0m\u001b[0;36m0.001\u001b[0m\u001b[0;34m,\u001b[0m \u001b[0mnu\u001b[0m\u001b[0;34m=\u001b[0m\u001b[0;36m0.03\u001b[0m\u001b[0;34m)\u001b[0m\u001b[0;34m\u001b[0m\u001b[0;34m\u001b[0m\u001b[0m\n\u001b[0m\u001b[1;32m      2\u001b[0m \u001b[0;34m\u001b[0m\u001b[0m\n\u001b[1;32m      3\u001b[0m \u001b[0;34m\u001b[0m\u001b[0m\n\u001b[1;32m      4\u001b[0m \u001b[0mSVMmodelOne\u001b[0m\u001b[0;34m.\u001b[0m\u001b[0mfit\u001b[0m\u001b[0;34m(\u001b[0m\u001b[0mx\u001b[0m\u001b[0;34m)\u001b[0m\u001b[0;34m\u001b[0m\u001b[0;34m\u001b[0m\u001b[0m\n\u001b[1;32m      5\u001b[0m \u001b[0mpred\u001b[0m \u001b[0;34m=\u001b[0m \u001b[0mSVMmodelOne\u001b[0m\u001b[0;34m.\u001b[0m\u001b[0mpredict\u001b[0m\u001b[0;34m(\u001b[0m\u001b[0mx\u001b[0m\u001b[0;34m)\u001b[0m\u001b[0;34m\u001b[0m\u001b[0;34m\u001b[0m\u001b[0m\n",
            "\u001b[0;31mNameError\u001b[0m: name 'OneClassSVM' is not defined"
          ]
        }
      ]
    },
    {
      "cell_type": "markdown",
      "source": [
        "Plot the support vectors:"
      ],
      "metadata": {
        "id": "kIZmSPRGxNRK"
      }
    },
    {
      "cell_type": "code",
      "source": [],
      "metadata": {
        "id": "RJcyvEHKsR8T"
      },
      "execution_count": null,
      "outputs": []
    },
    {
      "cell_type": "markdown",
      "source": [
        "What if we want to have a control what is outlier? Use e.g. 5% \"quantile\" to mark the outliers. Every point with lower score than threshold will be an outlier."
      ],
      "metadata": {
        "id": "VbEUVj8RxS1p"
      }
    },
    {
      "cell_type": "code",
      "source": [
        "scores = SVMmodelOne.score_samples(x)\n",
        "\n",
        "thresh = quantile(scores, 0.01)\n",
        "print(thresh)\n",
        "index = where(scores<=thresh)\n",
        "values = x[index]\n",
        "\n",
        "plt.scatter(x[:,0], x[:,1])\n",
        "plt.scatter(values[:,0], values[:,1], color='red')\n",
        "plt.axis('equal')\n",
        "plt.show()"
      ],
      "metadata": {
        "id": "DQzxxUePs6sN",
        "outputId": "4793cfe0-625f-4479-d6ed-a22c3c084b05",
        "colab": {
          "base_uri": "https://localhost:8080/",
          "height": 235
        }
      },
      "execution_count": null,
      "outputs": [
        {
          "output_type": "error",
          "ename": "NameError",
          "evalue": "ignored",
          "traceback": [
            "\u001b[0;31m---------------------------------------------------------------------------\u001b[0m",
            "\u001b[0;31mNameError\u001b[0m                                 Traceback (most recent call last)",
            "\u001b[0;32m<ipython-input-3-96497469aca6>\u001b[0m in \u001b[0;36m<module>\u001b[0;34m\u001b[0m\n\u001b[0;32m----> 1\u001b[0;31m \u001b[0mscores\u001b[0m \u001b[0;34m=\u001b[0m \u001b[0mSVMmodelOne\u001b[0m\u001b[0;34m.\u001b[0m\u001b[0mscore_samples\u001b[0m\u001b[0;34m(\u001b[0m\u001b[0mx\u001b[0m\u001b[0;34m)\u001b[0m\u001b[0;34m\u001b[0m\u001b[0;34m\u001b[0m\u001b[0m\n\u001b[0m\u001b[1;32m      2\u001b[0m \u001b[0;34m\u001b[0m\u001b[0m\n\u001b[1;32m      3\u001b[0m \u001b[0mthresh\u001b[0m \u001b[0;34m=\u001b[0m \u001b[0mquantile\u001b[0m\u001b[0;34m(\u001b[0m\u001b[0mscores\u001b[0m\u001b[0;34m,\u001b[0m \u001b[0;36m0.01\u001b[0m\u001b[0;34m)\u001b[0m\u001b[0;34m\u001b[0m\u001b[0;34m\u001b[0m\u001b[0m\n\u001b[1;32m      4\u001b[0m \u001b[0mprint\u001b[0m\u001b[0;34m(\u001b[0m\u001b[0mthresh\u001b[0m\u001b[0;34m)\u001b[0m\u001b[0;34m\u001b[0m\u001b[0;34m\u001b[0m\u001b[0m\n\u001b[1;32m      5\u001b[0m \u001b[0mindex\u001b[0m \u001b[0;34m=\u001b[0m \u001b[0mwhere\u001b[0m\u001b[0;34m(\u001b[0m\u001b[0mscores\u001b[0m\u001b[0;34m<=\u001b[0m\u001b[0mthresh\u001b[0m\u001b[0;34m)\u001b[0m\u001b[0;34m\u001b[0m\u001b[0;34m\u001b[0m\u001b[0m\n",
            "\u001b[0;31mNameError\u001b[0m: name 'SVMmodelOne' is not defined"
          ]
        }
      ]
    }
  ],
  "metadata": {
    "colab": {
      "provenance": [],
      "toc_visible": true,
      "include_colab_link": true
    },
    "kernelspec": {
      "display_name": "Python 3",
      "name": "python3"
    },
    "language_info": {
      "name": "python"
    }
  },
  "nbformat": 4,
  "nbformat_minor": 0
}